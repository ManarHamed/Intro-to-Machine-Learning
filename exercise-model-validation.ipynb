{
 "cells": [
  {
   "cell_type": "markdown",
   "id": "9e194e04",
   "metadata": {
    "papermill": {
     "duration": 0.005134,
     "end_time": "2022-07-09T12:54:30.425822",
     "exception": false,
     "start_time": "2022-07-09T12:54:30.420688",
     "status": "completed"
    },
    "tags": []
   },
   "source": [
    "**This notebook is an exercise in the [Introduction to Machine Learning](https://www.kaggle.com/learn/intro-to-machine-learning) course.  You can reference the tutorial at [this link](https://www.kaggle.com/dansbecker/model-validation).**\n",
    "\n",
    "---\n"
   ]
  },
  {
   "cell_type": "markdown",
   "id": "6ea5bc57",
   "metadata": {
    "papermill": {
     "duration": 0.003721,
     "end_time": "2022-07-09T12:54:30.433839",
     "exception": false,
     "start_time": "2022-07-09T12:54:30.430118",
     "status": "completed"
    },
    "tags": []
   },
   "source": [
    "## Recap\n",
    "You've built a model. In this exercise you will test how good your model is.\n",
    "\n",
    "Run the cell below to set up your coding environment where the previous exercise left off."
   ]
  },
  {
   "cell_type": "code",
   "execution_count": 1,
   "id": "68eba0c9",
   "metadata": {
    "execution": {
     "iopub.execute_input": "2022-07-09T12:54:30.443731Z",
     "iopub.status.busy": "2022-07-09T12:54:30.443131Z",
     "iopub.status.idle": "2022-07-09T12:54:32.023954Z",
     "shell.execute_reply": "2022-07-09T12:54:32.023026Z"
    },
    "papermill": {
     "duration": 1.589187,
     "end_time": "2022-07-09T12:54:32.026904",
     "exception": false,
     "start_time": "2022-07-09T12:54:30.437717",
     "status": "completed"
    },
    "tags": []
   },
   "outputs": [
    {
     "name": "stdout",
     "output_type": "stream",
     "text": [
      "First in-sample predictions: [208500. 181500. 223500. 140000. 250000.]\n",
      "Actual target values for those homes: [208500, 181500, 223500, 140000, 250000]\n",
      "Setup Complete\n"
     ]
    }
   ],
   "source": [
    "# Code you have previously used to load data\n",
    "import pandas as pd\n",
    "from sklearn.tree import DecisionTreeRegressor\n",
    "\n",
    "# Path of the file to read\n",
    "iowa_file_path = '../input/home-data-for-ml-course/train.csv'\n",
    "\n",
    "home_data = pd.read_csv(iowa_file_path)\n",
    "y = home_data.SalePrice\n",
    "feature_columns = ['LotArea', 'YearBuilt', '1stFlrSF', '2ndFlrSF', 'FullBath', 'BedroomAbvGr', 'TotRmsAbvGrd']\n",
    "X = home_data[feature_columns]\n",
    "\n",
    "# Specify Model\n",
    "iowa_model = DecisionTreeRegressor()\n",
    "# Fit Model\n",
    "iowa_model.fit(X, y)\n",
    "\n",
    "print(\"First in-sample predictions:\", iowa_model.predict(X.head()))\n",
    "print(\"Actual target values for those homes:\", y.head().tolist())\n",
    "\n",
    "# Set up code checking\n",
    "from learntools.core import binder\n",
    "binder.bind(globals())\n",
    "from learntools.machine_learning.ex4 import *\n",
    "print(\"Setup Complete\")"
   ]
  },
  {
   "cell_type": "markdown",
   "id": "8e6072ff",
   "metadata": {
    "papermill": {
     "duration": 0.004087,
     "end_time": "2022-07-09T12:54:32.036617",
     "exception": false,
     "start_time": "2022-07-09T12:54:32.032530",
     "status": "completed"
    },
    "tags": []
   },
   "source": [
    "# Exercises\n",
    "\n",
    "## Step 1: Split Your Data\n",
    "Use the `train_test_split` function to split up your data.\n",
    "\n",
    "Give it the argument `random_state=1` so the `check` functions know what to expect when verifying your code.\n",
    "\n",
    "Recall, your features are loaded in the DataFrame **X** and your target is loaded in **y**.\n"
   ]
  },
  {
   "cell_type": "code",
   "execution_count": 2,
   "id": "4382f61d",
   "metadata": {
    "execution": {
     "iopub.execute_input": "2022-07-09T12:54:32.047592Z",
     "iopub.status.busy": "2022-07-09T12:54:32.046558Z",
     "iopub.status.idle": "2022-07-09T12:54:32.061756Z",
     "shell.execute_reply": "2022-07-09T12:54:32.060579Z"
    },
    "papermill": {
     "duration": 0.022983,
     "end_time": "2022-07-09T12:54:32.063955",
     "exception": false,
     "start_time": "2022-07-09T12:54:32.040972",
     "status": "completed"
    },
    "tags": []
   },
   "outputs": [
    {
     "data": {
      "application/javascript": [
       "parent.postMessage({\"jupyterEvent\": \"custom.exercise_interaction\", \"data\": {\"outcomeType\": 1, \"valueTowardsCompletion\": 0.25, \"interactionType\": 1, \"questionType\": 2, \"questionId\": \"1_SplitData\", \"learnToolsVersion\": \"0.3.4\", \"failureMessage\": \"\", \"exceptionClass\": \"\", \"trace\": \"\"}}, \"*\")"
      ],
      "text/plain": [
       "<IPython.core.display.Javascript object>"
      ]
     },
     "metadata": {},
     "output_type": "display_data"
    },
    {
     "data": {
      "text/markdown": [
       "<span style=\"color:#33cc33\">Correct</span>"
      ],
      "text/plain": [
       "Correct"
      ]
     },
     "metadata": {},
     "output_type": "display_data"
    }
   ],
   "source": [
    "# Import the train_test_split function and uncomment\n",
    "from sklearn.model_selection import train_test_split\n",
    "# fill in and uncomment\n",
    "train_X, val_X, train_y, val_y = train_test_split(X, y, random_state = 1)\n",
    "\n",
    "# Check your answer\n",
    "step_1.check()"
   ]
  },
  {
   "cell_type": "code",
   "execution_count": 3,
   "id": "672961d5",
   "metadata": {
    "execution": {
     "iopub.execute_input": "2022-07-09T12:54:32.074328Z",
     "iopub.status.busy": "2022-07-09T12:54:32.073586Z",
     "iopub.status.idle": "2022-07-09T12:54:32.078732Z",
     "shell.execute_reply": "2022-07-09T12:54:32.077465Z"
    },
    "papermill": {
     "duration": 0.01279,
     "end_time": "2022-07-09T12:54:32.081003",
     "exception": false,
     "start_time": "2022-07-09T12:54:32.068213",
     "status": "completed"
    },
    "tags": []
   },
   "outputs": [],
   "source": [
    "# The lines below will show you a hint or the solution.\n",
    "# step_1.hint() \n",
    "# step_1.solution()\n"
   ]
  },
  {
   "cell_type": "markdown",
   "id": "4087cc3b",
   "metadata": {
    "papermill": {
     "duration": 0.003901,
     "end_time": "2022-07-09T12:54:32.089149",
     "exception": false,
     "start_time": "2022-07-09T12:54:32.085248",
     "status": "completed"
    },
    "tags": []
   },
   "source": [
    "## Step 2: Specify and Fit the Model\n",
    "\n",
    "Create a `DecisionTreeRegressor` model and fit it to the relevant data.\n",
    "Set `random_state` to 1 again when creating the model."
   ]
  },
  {
   "cell_type": "code",
   "execution_count": 4,
   "id": "3ffdb963",
   "metadata": {
    "execution": {
     "iopub.execute_input": "2022-07-09T12:54:32.099812Z",
     "iopub.status.busy": "2022-07-09T12:54:32.098783Z",
     "iopub.status.idle": "2022-07-09T12:54:32.126275Z",
     "shell.execute_reply": "2022-07-09T12:54:32.124402Z"
    },
    "papermill": {
     "duration": 0.036077,
     "end_time": "2022-07-09T12:54:32.129320",
     "exception": false,
     "start_time": "2022-07-09T12:54:32.093243",
     "status": "completed"
    },
    "tags": []
   },
   "outputs": [
    {
     "name": "stdout",
     "output_type": "stream",
     "text": [
      "[186500. 184000. 130000.  92000. 164500. 220000. 335000. 144152. 215000.\n",
      " 262000.]\n",
      "[186500. 184000. 130000.  92000. 164500. 220000. 335000. 144152. 215000.\n",
      " 262000.]\n"
     ]
    },
    {
     "data": {
      "application/javascript": [
       "parent.postMessage({\"jupyterEvent\": \"custom.exercise_interaction\", \"data\": {\"outcomeType\": 1, \"valueTowardsCompletion\": 0.25, \"interactionType\": 1, \"questionType\": 2, \"questionId\": \"2_FitModelWithTrain\", \"learnToolsVersion\": \"0.3.4\", \"failureMessage\": \"\", \"exceptionClass\": \"\", \"trace\": \"\"}}, \"*\")"
      ],
      "text/plain": [
       "<IPython.core.display.Javascript object>"
      ]
     },
     "metadata": {},
     "output_type": "display_data"
    },
    {
     "data": {
      "text/markdown": [
       "<span style=\"color:#33cc33\">Correct</span>"
      ],
      "text/plain": [
       "Correct"
      ]
     },
     "metadata": {},
     "output_type": "display_data"
    }
   ],
   "source": [
    "# You imported DecisionTreeRegressor in your last exercise\n",
    "# and that code has been copied to the setup code above. So, no need to\n",
    "# import it again\n",
    "\n",
    "# Specify the model\n",
    "iowa_model =  DecisionTreeRegressor(random_state = 1)\n",
    "\n",
    "# Fit iowa_model with the training data.\n",
    "iowa_model.fit(train_X, train_y)\n",
    "# Check your answer\n",
    "step_2.check()"
   ]
  },
  {
   "cell_type": "code",
   "execution_count": 5,
   "id": "e421bae0",
   "metadata": {
    "execution": {
     "iopub.execute_input": "2022-07-09T12:54:32.141276Z",
     "iopub.status.busy": "2022-07-09T12:54:32.140258Z",
     "iopub.status.idle": "2022-07-09T12:54:32.145026Z",
     "shell.execute_reply": "2022-07-09T12:54:32.144007Z"
    },
    "papermill": {
     "duration": 0.012829,
     "end_time": "2022-07-09T12:54:32.147080",
     "exception": false,
     "start_time": "2022-07-09T12:54:32.134251",
     "status": "completed"
    },
    "tags": []
   },
   "outputs": [],
   "source": [
    "# step_2.hint()\n",
    "# step_2.solution()"
   ]
  },
  {
   "cell_type": "markdown",
   "id": "4dbc2299",
   "metadata": {
    "papermill": {
     "duration": 0.004432,
     "end_time": "2022-07-09T12:54:32.156962",
     "exception": false,
     "start_time": "2022-07-09T12:54:32.152530",
     "status": "completed"
    },
    "tags": []
   },
   "source": [
    "## Step 3: Make Predictions with Validation data\n"
   ]
  },
  {
   "cell_type": "code",
   "execution_count": 6,
   "id": "3bcc3340",
   "metadata": {
    "execution": {
     "iopub.execute_input": "2022-07-09T12:54:32.168363Z",
     "iopub.status.busy": "2022-07-09T12:54:32.167621Z",
     "iopub.status.idle": "2022-07-09T12:54:32.180961Z",
     "shell.execute_reply": "2022-07-09T12:54:32.179849Z"
    },
    "papermill": {
     "duration": 0.021333,
     "end_time": "2022-07-09T12:54:32.183023",
     "exception": false,
     "start_time": "2022-07-09T12:54:32.161690",
     "status": "completed"
    },
    "tags": []
   },
   "outputs": [
    {
     "data": {
      "application/javascript": [
       "parent.postMessage({\"jupyterEvent\": \"custom.exercise_interaction\", \"data\": {\"outcomeType\": 1, \"valueTowardsCompletion\": 0.25, \"interactionType\": 1, \"questionType\": 2, \"questionId\": \"3_ValPreds\", \"learnToolsVersion\": \"0.3.4\", \"failureMessage\": \"\", \"exceptionClass\": \"\", \"trace\": \"\"}}, \"*\")"
      ],
      "text/plain": [
       "<IPython.core.display.Javascript object>"
      ]
     },
     "metadata": {},
     "output_type": "display_data"
    },
    {
     "data": {
      "text/markdown": [
       "<span style=\"color:#33cc33\">Correct</span>"
      ],
      "text/plain": [
       "Correct"
      ]
     },
     "metadata": {},
     "output_type": "display_data"
    }
   ],
   "source": [
    "# Predict with all validation observations\n",
    "val_predictions = iowa_model.predict(val_X)\n",
    "\n",
    "# Check your answer\n",
    "step_3.check()"
   ]
  },
  {
   "cell_type": "code",
   "execution_count": 7,
   "id": "945de7c0",
   "metadata": {
    "execution": {
     "iopub.execute_input": "2022-07-09T12:54:32.193944Z",
     "iopub.status.busy": "2022-07-09T12:54:32.193503Z",
     "iopub.status.idle": "2022-07-09T12:54:32.198210Z",
     "shell.execute_reply": "2022-07-09T12:54:32.197071Z"
    },
    "papermill": {
     "duration": 0.012833,
     "end_time": "2022-07-09T12:54:32.200348",
     "exception": false,
     "start_time": "2022-07-09T12:54:32.187515",
     "status": "completed"
    },
    "tags": []
   },
   "outputs": [],
   "source": [
    "# step_3.hint()\n",
    "# step_3.solution()"
   ]
  },
  {
   "cell_type": "markdown",
   "id": "555edcad",
   "metadata": {
    "papermill": {
     "duration": 0.004249,
     "end_time": "2022-07-09T12:54:32.209469",
     "exception": false,
     "start_time": "2022-07-09T12:54:32.205220",
     "status": "completed"
    },
    "tags": []
   },
   "source": [
    "Inspect your predictions and actual values from validation data."
   ]
  },
  {
   "cell_type": "code",
   "execution_count": 8,
   "id": "2e51d21e",
   "metadata": {
    "execution": {
     "iopub.execute_input": "2022-07-09T12:54:32.220389Z",
     "iopub.status.busy": "2022-07-09T12:54:32.219950Z",
     "iopub.status.idle": "2022-07-09T12:54:32.231998Z",
     "shell.execute_reply": "2022-07-09T12:54:32.230556Z"
    },
    "papermill": {
     "duration": 0.020641,
     "end_time": "2022-07-09T12:54:32.234485",
     "exception": false,
     "start_time": "2022-07-09T12:54:32.213844",
     "status": "completed"
    },
    "tags": []
   },
   "outputs": [
    {
     "name": "stdout",
     "output_type": "stream",
     "text": [
      "<bound method NDFrame.head of       LotArea  YearBuilt  1stFlrSF  2ndFlrSF  FullBath  BedroomAbvGr  \\\n",
      "258     12435       2001       963       829         2             3   \n",
      "267      8400       1939      1052       720         2             4   \n",
      "288      9819       1967       900         0         1             3   \n",
      "649      1936       1970       630         0         1             1   \n",
      "1233    12160       1959      1188         0         1             3   \n",
      "...       ...        ...       ...       ...       ...           ...   \n",
      "1017     5814       1984      1360         0         1             1   \n",
      "534      9056       2004       707       707         2             3   \n",
      "1334     2368       1970       765       600         1             3   \n",
      "1369    10635       2003      1668         0         2             3   \n",
      "628     11606       1969      1040      1040         1             5   \n",
      "\n",
      "      TotRmsAbvGrd  \n",
      "258              7  \n",
      "267              8  \n",
      "288              5  \n",
      "649              3  \n",
      "1233             6  \n",
      "...            ...  \n",
      "1017             4  \n",
      "534              6  \n",
      "1334             7  \n",
      "1369             8  \n",
      "628              9  \n",
      "\n",
      "[365 rows x 7 columns]>\n",
      "<bound method NDFrame.head of 258     231500\n",
      "267     179500\n",
      "288     122000\n",
      "649      84500\n",
      "1233    142000\n",
      "         ...  \n",
      "1017    187500\n",
      "534     178000\n",
      "1334    125000\n",
      "1369    232000\n",
      "628     135000\n",
      "Name: SalePrice, Length: 365, dtype: int64>\n"
     ]
    }
   ],
   "source": [
    "# print the top few validation predictions\n",
    "print(val_X.head)\n",
    "# print the top few actual prices from validation data\n",
    "print(val_y.head)"
   ]
  },
  {
   "cell_type": "markdown",
   "id": "683fab43",
   "metadata": {
    "papermill": {
     "duration": 0.004178,
     "end_time": "2022-07-09T12:54:32.243147",
     "exception": false,
     "start_time": "2022-07-09T12:54:32.238969",
     "status": "completed"
    },
    "tags": []
   },
   "source": [
    "What do you notice that is different from what you saw with in-sample predictions (which are printed after the top code cell in this page).\n",
    "\n",
    "Do you remember why validation predictions differ from in-sample (or training) predictions? This is an important idea from the last lesson.\n",
    "\n",
    "## Step 4: Calculate the Mean Absolute Error in Validation Data\n"
   ]
  },
  {
   "cell_type": "code",
   "execution_count": 9,
   "id": "7a6b9d96",
   "metadata": {
    "execution": {
     "iopub.execute_input": "2022-07-09T12:54:32.254253Z",
     "iopub.status.busy": "2022-07-09T12:54:32.253212Z",
     "iopub.status.idle": "2022-07-09T12:54:32.264886Z",
     "shell.execute_reply": "2022-07-09T12:54:32.263502Z"
    },
    "papermill": {
     "duration": 0.019236,
     "end_time": "2022-07-09T12:54:32.266816",
     "exception": false,
     "start_time": "2022-07-09T12:54:32.247580",
     "status": "completed"
    },
    "tags": []
   },
   "outputs": [
    {
     "name": "stdout",
     "output_type": "stream",
     "text": [
      "29652.931506849316\n"
     ]
    },
    {
     "data": {
      "application/javascript": [
       "parent.postMessage({\"jupyterEvent\": \"custom.exercise_interaction\", \"data\": {\"outcomeType\": 1, \"valueTowardsCompletion\": 0.25, \"interactionType\": 1, \"questionType\": 1, \"questionId\": \"4_MAE\", \"learnToolsVersion\": \"0.3.4\", \"failureMessage\": \"\", \"exceptionClass\": \"\", \"trace\": \"\"}}, \"*\")"
      ],
      "text/plain": [
       "<IPython.core.display.Javascript object>"
      ]
     },
     "metadata": {},
     "output_type": "display_data"
    },
    {
     "data": {
      "text/markdown": [
       "<span style=\"color:#33cc33\">Correct</span>"
      ],
      "text/plain": [
       "Correct"
      ]
     },
     "metadata": {},
     "output_type": "display_data"
    }
   ],
   "source": [
    "from sklearn.metrics import mean_absolute_error\n",
    "val_mae = mean_absolute_error(val_y, val_predictions)\n",
    "\n",
    "# uncomment following line to see the validation_mae\n",
    "print(val_mae)\n",
    "\n",
    "# Check your answer\n",
    "step_4.check()"
   ]
  },
  {
   "cell_type": "code",
   "execution_count": 10,
   "id": "0ae45430",
   "metadata": {
    "execution": {
     "iopub.execute_input": "2022-07-09T12:54:32.278139Z",
     "iopub.status.busy": "2022-07-09T12:54:32.277685Z",
     "iopub.status.idle": "2022-07-09T12:54:32.282899Z",
     "shell.execute_reply": "2022-07-09T12:54:32.281664Z"
    },
    "papermill": {
     "duration": 0.013665,
     "end_time": "2022-07-09T12:54:32.285270",
     "exception": false,
     "start_time": "2022-07-09T12:54:32.271605",
     "status": "completed"
    },
    "tags": []
   },
   "outputs": [],
   "source": [
    "# step_4.hint()\n",
    "# step_4.solution()"
   ]
  },
  {
   "cell_type": "markdown",
   "id": "c955508b",
   "metadata": {
    "papermill": {
     "duration": 0.004486,
     "end_time": "2022-07-09T12:54:32.294618",
     "exception": false,
     "start_time": "2022-07-09T12:54:32.290132",
     "status": "completed"
    },
    "tags": []
   },
   "source": [
    "Is that MAE good?  There isn't a general rule for what values are good that applies across applications. But you'll see how to use (and improve) this number in the next step.\n",
    "\n",
    "# Keep Going\n",
    "\n",
    "You are ready for **[Underfitting and Overfitting](https://www.kaggle.com/dansbecker/underfitting-and-overfitting).**\n"
   ]
  },
  {
   "cell_type": "markdown",
   "id": "9bf1ecba",
   "metadata": {
    "papermill": {
     "duration": 0.004618,
     "end_time": "2022-07-09T12:54:32.304147",
     "exception": false,
     "start_time": "2022-07-09T12:54:32.299529",
     "status": "completed"
    },
    "tags": []
   },
   "source": [
    "---\n",
    "\n",
    "\n",
    "\n",
    "\n",
    "*Have questions or comments? Visit the [course discussion forum](https://www.kaggle.com/learn/intro-to-machine-learning/discussion) to chat with other learners.*"
   ]
  }
 ],
 "metadata": {
  "kernelspec": {
   "display_name": "Python 3",
   "language": "python",
   "name": "python3"
  },
  "language_info": {
   "codemirror_mode": {
    "name": "ipython",
    "version": 3
   },
   "file_extension": ".py",
   "mimetype": "text/x-python",
   "name": "python",
   "nbconvert_exporter": "python",
   "pygments_lexer": "ipython3",
   "version": "3.7.12"
  },
  "papermill": {
   "default_parameters": {},
   "duration": 12.012736,
   "end_time": "2022-07-09T12:54:33.030882",
   "environment_variables": {},
   "exception": null,
   "input_path": "__notebook__.ipynb",
   "output_path": "__notebook__.ipynb",
   "parameters": {},
   "start_time": "2022-07-09T12:54:21.018146",
   "version": "2.3.4"
  }
 },
 "nbformat": 4,
 "nbformat_minor": 5
}
