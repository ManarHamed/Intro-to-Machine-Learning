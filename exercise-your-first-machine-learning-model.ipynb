{
 "cells": [
  {
   "cell_type": "markdown",
   "id": "67e2a78c",
   "metadata": {
    "papermill": {
     "duration": 0.005462,
     "end_time": "2022-07-09T12:54:24.146783",
     "exception": false,
     "start_time": "2022-07-09T12:54:24.141321",
     "status": "completed"
    },
    "tags": []
   },
   "source": [
    "home_data**This notebook is an exercise in the [Introduction to Machine Learning](https://www.kaggle.com/learn/intro-to-machine-learning) course.  You can reference the tutorial at [this link](https://www.kaggle.com/dansbecker/your-first-machine-learning-model).**\n",
    "\n",
    "---\n"
   ]
  },
  {
   "cell_type": "markdown",
   "id": "e8ed8f7e",
   "metadata": {
    "papermill": {
     "duration": 0.003873,
     "end_time": "2022-07-09T12:54:24.155020",
     "exception": false,
     "start_time": "2022-07-09T12:54:24.151147",
     "status": "completed"
    },
    "tags": []
   },
   "source": [
    "## Recap\n",
    "So far, you have loaded your data and reviewed it with the following code. Run this cell to set up your coding environment where the previous step left off."
   ]
  },
  {
   "cell_type": "code",
   "execution_count": 1,
   "id": "faa8ec28",
   "metadata": {
    "execution": {
     "iopub.execute_input": "2022-07-09T12:54:24.166339Z",
     "iopub.status.busy": "2022-07-09T12:54:24.165094Z",
     "iopub.status.idle": "2022-07-09T12:54:25.632687Z",
     "shell.execute_reply": "2022-07-09T12:54:25.630354Z"
    },
    "papermill": {
     "duration": 1.476676,
     "end_time": "2022-07-09T12:54:25.635860",
     "exception": false,
     "start_time": "2022-07-09T12:54:24.159184",
     "status": "completed"
    },
    "tags": []
   },
   "outputs": [
    {
     "name": "stdout",
     "output_type": "stream",
     "text": [
      "Setup Complete\n"
     ]
    }
   ],
   "source": [
    "# Code you have previously used to load data\n",
    "import pandas as pd\n",
    "\n",
    "# Path of the file to read\n",
    "iowa_file_path = '../input/home-data-for-ml-course/train.csv'\n",
    "\n",
    "home_data = pd.read_csv(iowa_file_path)\n",
    "\n",
    "# Set up code checking\n",
    "from learntools.core import binder\n",
    "binder.bind(globals())\n",
    "from learntools.machine_learning.ex3 import *\n",
    "\n",
    "print(\"Setup Complete\")"
   ]
  },
  {
   "cell_type": "markdown",
   "id": "15d26cce",
   "metadata": {
    "papermill": {
     "duration": 0.004135,
     "end_time": "2022-07-09T12:54:25.644806",
     "exception": false,
     "start_time": "2022-07-09T12:54:25.640671",
     "status": "completed"
    },
    "tags": []
   },
   "source": [
    "# Exercises\n",
    "\n",
    "## Step 1: Specify Prediction Target\n",
    "Select the target variable, which corresponds to the sales price. Save this to a new variable called `y`. You'll need to print a list of the columns to find the name of the column you need.\n"
   ]
  },
  {
   "cell_type": "code",
   "execution_count": 2,
   "id": "35e85756",
   "metadata": {
    "execution": {
     "iopub.execute_input": "2022-07-09T12:54:25.655184Z",
     "iopub.status.busy": "2022-07-09T12:54:25.654770Z",
     "iopub.status.idle": "2022-07-09T12:54:25.660371Z",
     "shell.execute_reply": "2022-07-09T12:54:25.659564Z"
    },
    "papermill": {
     "duration": 0.01337,
     "end_time": "2022-07-09T12:54:25.662492",
     "exception": false,
     "start_time": "2022-07-09T12:54:25.649122",
     "status": "completed"
    },
    "tags": []
   },
   "outputs": [
    {
     "name": "stdout",
     "output_type": "stream",
     "text": [
      "Index(['Id', 'MSSubClass', 'MSZoning', 'LotFrontage', 'LotArea', 'Street',\n",
      "       'Alley', 'LotShape', 'LandContour', 'Utilities', 'LotConfig',\n",
      "       'LandSlope', 'Neighborhood', 'Condition1', 'Condition2', 'BldgType',\n",
      "       'HouseStyle', 'OverallQual', 'OverallCond', 'YearBuilt', 'YearRemodAdd',\n",
      "       'RoofStyle', 'RoofMatl', 'Exterior1st', 'Exterior2nd', 'MasVnrType',\n",
      "       'MasVnrArea', 'ExterQual', 'ExterCond', 'Foundation', 'BsmtQual',\n",
      "       'BsmtCond', 'BsmtExposure', 'BsmtFinType1', 'BsmtFinSF1',\n",
      "       'BsmtFinType2', 'BsmtFinSF2', 'BsmtUnfSF', 'TotalBsmtSF', 'Heating',\n",
      "       'HeatingQC', 'CentralAir', 'Electrical', '1stFlrSF', '2ndFlrSF',\n",
      "       'LowQualFinSF', 'GrLivArea', 'BsmtFullBath', 'BsmtHalfBath', 'FullBath',\n",
      "       'HalfBath', 'BedroomAbvGr', 'KitchenAbvGr', 'KitchenQual',\n",
      "       'TotRmsAbvGrd', 'Functional', 'Fireplaces', 'FireplaceQu', 'GarageType',\n",
      "       'GarageYrBlt', 'GarageFinish', 'GarageCars', 'GarageArea', 'GarageQual',\n",
      "       'GarageCond', 'PavedDrive', 'WoodDeckSF', 'OpenPorchSF',\n",
      "       'EnclosedPorch', '3SsnPorch', 'ScreenPorch', 'PoolArea', 'PoolQC',\n",
      "       'Fence', 'MiscFeature', 'MiscVal', 'MoSold', 'YrSold', 'SaleType',\n",
      "       'SaleCondition', 'SalePrice'],\n",
      "      dtype='object')\n"
     ]
    }
   ],
   "source": [
    "# print the list of columns in the dataset to find the name of the prediction target\n",
    "print(home_data.columns)"
   ]
  },
  {
   "cell_type": "code",
   "execution_count": 3,
   "id": "56965ec1",
   "metadata": {
    "execution": {
     "iopub.execute_input": "2022-07-09T12:54:25.673731Z",
     "iopub.status.busy": "2022-07-09T12:54:25.672798Z",
     "iopub.status.idle": "2022-07-09T12:54:25.689187Z",
     "shell.execute_reply": "2022-07-09T12:54:25.687988Z"
    },
    "papermill": {
     "duration": 0.024287,
     "end_time": "2022-07-09T12:54:25.691253",
     "exception": false,
     "start_time": "2022-07-09T12:54:25.666966",
     "status": "completed"
    },
    "tags": []
   },
   "outputs": [
    {
     "data": {
      "application/javascript": [
       "parent.postMessage({\"jupyterEvent\": \"custom.exercise_interaction\", \"data\": {\"outcomeType\": 1, \"valueTowardsCompletion\": 0.25, \"interactionType\": 1, \"questionType\": 2, \"questionId\": \"1_SetTarget\", \"learnToolsVersion\": \"0.3.4\", \"failureMessage\": \"\", \"exceptionClass\": \"\", \"trace\": \"\"}}, \"*\")"
      ],
      "text/plain": [
       "<IPython.core.display.Javascript object>"
      ]
     },
     "metadata": {},
     "output_type": "display_data"
    },
    {
     "data": {
      "text/markdown": [
       "<span style=\"color:#33cc33\">Correct</span>"
      ],
      "text/plain": [
       "Correct"
      ]
     },
     "metadata": {},
     "output_type": "display_data"
    }
   ],
   "source": [
    "y = home_data.SalePrice\n",
    "\n",
    "# Check your answer\n",
    "step_1.check()"
   ]
  },
  {
   "cell_type": "code",
   "execution_count": 4,
   "id": "593e515e",
   "metadata": {
    "execution": {
     "iopub.execute_input": "2022-07-09T12:54:25.702235Z",
     "iopub.status.busy": "2022-07-09T12:54:25.701559Z",
     "iopub.status.idle": "2022-07-09T12:54:25.705156Z",
     "shell.execute_reply": "2022-07-09T12:54:25.704343Z"
    },
    "papermill": {
     "duration": 0.011179,
     "end_time": "2022-07-09T12:54:25.706955",
     "exception": false,
     "start_time": "2022-07-09T12:54:25.695776",
     "status": "completed"
    },
    "tags": []
   },
   "outputs": [],
   "source": [
    "# The lines below will show you a hint or the solution.\n",
    "#step_1.hint() \n",
    "#step_1.solution()"
   ]
  },
  {
   "cell_type": "markdown",
   "id": "ee21faeb",
   "metadata": {
    "papermill": {
     "duration": 0.004059,
     "end_time": "2022-07-09T12:54:25.715493",
     "exception": false,
     "start_time": "2022-07-09T12:54:25.711434",
     "status": "completed"
    },
    "tags": []
   },
   "source": [
    "## Step 2: Create X\n",
    "Now you will create a DataFrame called `X` holding the predictive features.\n",
    "\n",
    "Since you want only some columns from the original data, you'll first create a list with the names of the columns you want in `X`.\n",
    "\n",
    "You'll use just the following columns in the list (you can copy and paste the whole list to save some typing, though you'll still need to add quotes):\n",
    "  * LotArea\n",
    "  * YearBuilt\n",
    "  * 1stFlrSF\n",
    "  * 2ndFlrSF\n",
    "  * FullBath\n",
    "  * BedroomAbvGr\n",
    "  * TotRmsAbvGrd\n",
    "\n",
    "After you've created that list of features, use it to create the DataFrame that you'll use to fit the model."
   ]
  },
  {
   "cell_type": "code",
   "execution_count": 5,
   "id": "0116d29b",
   "metadata": {
    "execution": {
     "iopub.execute_input": "2022-07-09T12:54:25.726037Z",
     "iopub.status.busy": "2022-07-09T12:54:25.725376Z",
     "iopub.status.idle": "2022-07-09T12:54:25.738307Z",
     "shell.execute_reply": "2022-07-09T12:54:25.737529Z"
    },
    "papermill": {
     "duration": 0.020313,
     "end_time": "2022-07-09T12:54:25.740095",
     "exception": false,
     "start_time": "2022-07-09T12:54:25.719782",
     "status": "completed"
    },
    "tags": []
   },
   "outputs": [
    {
     "data": {
      "application/javascript": [
       "parent.postMessage({\"jupyterEvent\": \"custom.exercise_interaction\", \"data\": {\"outcomeType\": 1, \"valueTowardsCompletion\": 0.25, \"interactionType\": 1, \"questionType\": 2, \"questionId\": \"2_SelectPredictionData\", \"learnToolsVersion\": \"0.3.4\", \"failureMessage\": \"\", \"exceptionClass\": \"\", \"trace\": \"\"}}, \"*\")"
      ],
      "text/plain": [
       "<IPython.core.display.Javascript object>"
      ]
     },
     "metadata": {},
     "output_type": "display_data"
    },
    {
     "data": {
      "text/markdown": [
       "<span style=\"color:#33cc33\">Correct</span>"
      ],
      "text/plain": [
       "Correct"
      ]
     },
     "metadata": {},
     "output_type": "display_data"
    }
   ],
   "source": [
    "# Create the list of features below\n",
    "feature_names = ['LotArea','YearBuilt','1stFlrSF','2ndFlrSF','FullBath','BedroomAbvGr','TotRmsAbvGrd']\n",
    "    \n",
    "    \n",
    "\n",
    "\n",
    "# Select data corresponding to features in feature_names\n",
    "X = home_data[feature_names]\n",
    "\n",
    "# Check your answer\n",
    "step_2.check()"
   ]
  },
  {
   "cell_type": "code",
   "execution_count": 6,
   "id": "a82bf7a0",
   "metadata": {
    "execution": {
     "iopub.execute_input": "2022-07-09T12:54:25.751163Z",
     "iopub.status.busy": "2022-07-09T12:54:25.750321Z",
     "iopub.status.idle": "2022-07-09T12:54:25.753949Z",
     "shell.execute_reply": "2022-07-09T12:54:25.753218Z"
    },
    "papermill": {
     "duration": 0.010999,
     "end_time": "2022-07-09T12:54:25.755699",
     "exception": false,
     "start_time": "2022-07-09T12:54:25.744700",
     "status": "completed"
    },
    "tags": []
   },
   "outputs": [],
   "source": [
    "# step_2.hint()\n",
    "# step_2.solution()"
   ]
  },
  {
   "cell_type": "markdown",
   "id": "cb602b54",
   "metadata": {
    "papermill": {
     "duration": 0.004397,
     "end_time": "2022-07-09T12:54:25.764755",
     "exception": false,
     "start_time": "2022-07-09T12:54:25.760358",
     "status": "completed"
    },
    "tags": []
   },
   "source": [
    "## Review Data\n",
    "Before building a model, take a quick look at **X** to verify it looks sensible"
   ]
  },
  {
   "cell_type": "code",
   "execution_count": 7,
   "id": "aaa1838c",
   "metadata": {
    "execution": {
     "iopub.execute_input": "2022-07-09T12:54:25.775947Z",
     "iopub.status.busy": "2022-07-09T12:54:25.775314Z",
     "iopub.status.idle": "2022-07-09T12:54:25.787768Z",
     "shell.execute_reply": "2022-07-09T12:54:25.787036Z"
    },
    "papermill": {
     "duration": 0.020991,
     "end_time": "2022-07-09T12:54:25.790362",
     "exception": false,
     "start_time": "2022-07-09T12:54:25.769371",
     "status": "completed"
    },
    "tags": []
   },
   "outputs": [
    {
     "name": "stdout",
     "output_type": "stream",
     "text": [
      "<bound method NDFrame.describe of       LotArea  YearBuilt  1stFlrSF  2ndFlrSF  FullBath  BedroomAbvGr  \\\n",
      "0        8450       2003       856       854         2             3   \n",
      "1        9600       1976      1262         0         2             3   \n",
      "2       11250       2001       920       866         2             3   \n",
      "3        9550       1915       961       756         1             3   \n",
      "4       14260       2000      1145      1053         2             4   \n",
      "...       ...        ...       ...       ...       ...           ...   \n",
      "1455     7917       1999       953       694         2             3   \n",
      "1456    13175       1978      2073         0         2             3   \n",
      "1457     9042       1941      1188      1152         2             4   \n",
      "1458     9717       1950      1078         0         1             2   \n",
      "1459     9937       1965      1256         0         1             3   \n",
      "\n",
      "      TotRmsAbvGrd  \n",
      "0                8  \n",
      "1                6  \n",
      "2                6  \n",
      "3                7  \n",
      "4                9  \n",
      "...            ...  \n",
      "1455             7  \n",
      "1456             7  \n",
      "1457             9  \n",
      "1458             5  \n",
      "1459             6  \n",
      "\n",
      "[1460 rows x 7 columns]>\n",
      "<bound method NDFrame.head of       LotArea  YearBuilt  1stFlrSF  2ndFlrSF  FullBath  BedroomAbvGr  \\\n",
      "0        8450       2003       856       854         2             3   \n",
      "1        9600       1976      1262         0         2             3   \n",
      "2       11250       2001       920       866         2             3   \n",
      "3        9550       1915       961       756         1             3   \n",
      "4       14260       2000      1145      1053         2             4   \n",
      "...       ...        ...       ...       ...       ...           ...   \n",
      "1455     7917       1999       953       694         2             3   \n",
      "1456    13175       1978      2073         0         2             3   \n",
      "1457     9042       1941      1188      1152         2             4   \n",
      "1458     9717       1950      1078         0         1             2   \n",
      "1459     9937       1965      1256         0         1             3   \n",
      "\n",
      "      TotRmsAbvGrd  \n",
      "0                8  \n",
      "1                6  \n",
      "2                6  \n",
      "3                7  \n",
      "4                9  \n",
      "...            ...  \n",
      "1455             7  \n",
      "1456             7  \n",
      "1457             9  \n",
      "1458             5  \n",
      "1459             6  \n",
      "\n",
      "[1460 rows x 7 columns]>\n"
     ]
    }
   ],
   "source": [
    "# Review data\n",
    "# print description or statistics from X\n",
    "print(X.describe)\n",
    "\n",
    "# print the top few lines\n",
    "print(X.head)"
   ]
  },
  {
   "cell_type": "markdown",
   "id": "0a605067",
   "metadata": {
    "papermill": {
     "duration": 0.004974,
     "end_time": "2022-07-09T12:54:25.800333",
     "exception": false,
     "start_time": "2022-07-09T12:54:25.795359",
     "status": "completed"
    },
    "tags": []
   },
   "source": [
    "## Step 3: Specify and Fit Model\n",
    "Create a `DecisionTreeRegressor` and save it iowa_model. Ensure you've done the relevant import from sklearn to run this command.\n",
    "\n",
    "Then fit the model you just created using the data in `X` and `y` that you saved above."
   ]
  },
  {
   "cell_type": "code",
   "execution_count": 8,
   "id": "c7b5374f",
   "metadata": {
    "execution": {
     "iopub.execute_input": "2022-07-09T12:54:25.812135Z",
     "iopub.status.busy": "2022-07-09T12:54:25.811436Z",
     "iopub.status.idle": "2022-07-09T12:54:25.830612Z",
     "shell.execute_reply": "2022-07-09T12:54:25.829303Z"
    },
    "papermill": {
     "duration": 0.027643,
     "end_time": "2022-07-09T12:54:25.832931",
     "exception": false,
     "start_time": "2022-07-09T12:54:25.805288",
     "status": "completed"
    },
    "tags": []
   },
   "outputs": [
    {
     "data": {
      "application/javascript": [
       "parent.postMessage({\"jupyterEvent\": \"custom.exercise_interaction\", \"data\": {\"outcomeType\": 1, \"valueTowardsCompletion\": 0.25, \"interactionType\": 1, \"questionType\": 2, \"questionId\": \"3_CreateModel\", \"learnToolsVersion\": \"0.3.4\", \"failureMessage\": \"\", \"exceptionClass\": \"\", \"trace\": \"\"}}, \"*\")"
      ],
      "text/plain": [
       "<IPython.core.display.Javascript object>"
      ]
     },
     "metadata": {},
     "output_type": "display_data"
    },
    {
     "data": {
      "text/markdown": [
       "<span style=\"color:#33cc33\">Correct</span>"
      ],
      "text/plain": [
       "Correct"
      ]
     },
     "metadata": {},
     "output_type": "display_data"
    }
   ],
   "source": [
    "from sklearn.tree import DecisionTreeRegressor\n",
    "#specify the model. \n",
    "#For model reproducibility, set a numeric value for random_state when specifying the model\n",
    "iowa_model = DecisionTreeRegressor(random_state=1)\n",
    "\n",
    "# Fit the model\n",
    "iowa_model.fit(X, y)\n",
    "\n",
    "# Check your answer\n",
    "step_3.check()"
   ]
  },
  {
   "cell_type": "code",
   "execution_count": 9,
   "id": "e96f8665",
   "metadata": {
    "execution": {
     "iopub.execute_input": "2022-07-09T12:54:25.845537Z",
     "iopub.status.busy": "2022-07-09T12:54:25.845184Z",
     "iopub.status.idle": "2022-07-09T12:54:25.848965Z",
     "shell.execute_reply": "2022-07-09T12:54:25.848165Z"
    },
    "papermill": {
     "duration": 0.013387,
     "end_time": "2022-07-09T12:54:25.851698",
     "exception": false,
     "start_time": "2022-07-09T12:54:25.838311",
     "status": "completed"
    },
    "tags": []
   },
   "outputs": [],
   "source": [
    "# step_3.hint()\n",
    "# step_3.solution()"
   ]
  },
  {
   "cell_type": "markdown",
   "id": "cb8efd75",
   "metadata": {
    "papermill": {
     "duration": 0.005208,
     "end_time": "2022-07-09T12:54:25.863327",
     "exception": false,
     "start_time": "2022-07-09T12:54:25.858119",
     "status": "completed"
    },
    "tags": []
   },
   "source": [
    "## Step 4: Make Predictions\n",
    "Make predictions with the model's `predict` command using `X` as the data. Save the results to a variable called `predictions`."
   ]
  },
  {
   "cell_type": "code",
   "execution_count": 10,
   "id": "e68e4d6e",
   "metadata": {
    "execution": {
     "iopub.execute_input": "2022-07-09T12:54:25.875445Z",
     "iopub.status.busy": "2022-07-09T12:54:25.874647Z",
     "iopub.status.idle": "2022-07-09T12:54:25.888164Z",
     "shell.execute_reply": "2022-07-09T12:54:25.886946Z"
    },
    "papermill": {
     "duration": 0.021914,
     "end_time": "2022-07-09T12:54:25.890311",
     "exception": false,
     "start_time": "2022-07-09T12:54:25.868397",
     "status": "completed"
    },
    "tags": []
   },
   "outputs": [
    {
     "name": "stdout",
     "output_type": "stream",
     "text": [
      "[208500. 181500. 223500. ... 266500. 142125. 147500.]\n"
     ]
    },
    {
     "data": {
      "application/javascript": [
       "parent.postMessage({\"jupyterEvent\": \"custom.exercise_interaction\", \"data\": {\"outcomeType\": 1, \"valueTowardsCompletion\": 0.25, \"interactionType\": 1, \"questionType\": 2, \"questionId\": \"4_MakePredictions\", \"learnToolsVersion\": \"0.3.4\", \"failureMessage\": \"\", \"exceptionClass\": \"\", \"trace\": \"\"}}, \"*\")"
      ],
      "text/plain": [
       "<IPython.core.display.Javascript object>"
      ]
     },
     "metadata": {},
     "output_type": "display_data"
    },
    {
     "data": {
      "text/markdown": [
       "<span style=\"color:#33cc33\">Correct</span>"
      ],
      "text/plain": [
       "Correct"
      ]
     },
     "metadata": {},
     "output_type": "display_data"
    }
   ],
   "source": [
    "predictions = iowa_model.predict(X)\n",
    "print(predictions)\n",
    "\n",
    "# Check your answer\n",
    "step_4.check()"
   ]
  },
  {
   "cell_type": "code",
   "execution_count": 11,
   "id": "ebd710c5",
   "metadata": {
    "execution": {
     "iopub.execute_input": "2022-07-09T12:54:25.903308Z",
     "iopub.status.busy": "2022-07-09T12:54:25.902268Z",
     "iopub.status.idle": "2022-07-09T12:54:25.906241Z",
     "shell.execute_reply": "2022-07-09T12:54:25.905451Z"
    },
    "papermill": {
     "duration": 0.012211,
     "end_time": "2022-07-09T12:54:25.908235",
     "exception": false,
     "start_time": "2022-07-09T12:54:25.896024",
     "status": "completed"
    },
    "tags": []
   },
   "outputs": [],
   "source": [
    "# step_4.hint()\n",
    "# step_4.solution()"
   ]
  },
  {
   "cell_type": "markdown",
   "id": "4ece7033",
   "metadata": {
    "papermill": {
     "duration": 0.004943,
     "end_time": "2022-07-09T12:54:25.918376",
     "exception": false,
     "start_time": "2022-07-09T12:54:25.913433",
     "status": "completed"
    },
    "tags": []
   },
   "source": [
    "## Think About Your Results\n",
    "\n",
    "Use the `head` method to compare the top few predictions to the actual home values (in `y`) for those same homes. Anything surprising?\n"
   ]
  },
  {
   "cell_type": "code",
   "execution_count": 12,
   "id": "93a8cef5",
   "metadata": {
    "execution": {
     "iopub.execute_input": "2022-07-09T12:54:25.930452Z",
     "iopub.status.busy": "2022-07-09T12:54:25.930081Z",
     "iopub.status.idle": "2022-07-09T12:54:25.935798Z",
     "shell.execute_reply": "2022-07-09T12:54:25.934587Z"
    },
    "papermill": {
     "duration": 0.014052,
     "end_time": "2022-07-09T12:54:25.937653",
     "exception": false,
     "start_time": "2022-07-09T12:54:25.923601",
     "status": "completed"
    },
    "tags": []
   },
   "outputs": [
    {
     "name": "stdout",
     "output_type": "stream",
     "text": [
      "0    208500\n",
      "1    181500\n",
      "2    223500\n",
      "3    140000\n",
      "4    250000\n",
      "Name: SalePrice, dtype: int64\n"
     ]
    }
   ],
   "source": [
    "# You can write code in this cell\n",
    "print(y.head())"
   ]
  },
  {
   "cell_type": "markdown",
   "id": "b481e018",
   "metadata": {
    "papermill": {
     "duration": 0.004856,
     "end_time": "2022-07-09T12:54:25.947623",
     "exception": false,
     "start_time": "2022-07-09T12:54:25.942767",
     "status": "completed"
    },
    "tags": []
   },
   "source": [
    "It's natural to ask how accurate the model's predictions will be and how you can improve that. That will be you're next step.\n",
    "\n",
    "# Keep Going\n",
    "\n",
    "You are ready for **[Model Validation](https://www.kaggle.com/dansbecker/model-validation).**\n"
   ]
  },
  {
   "cell_type": "markdown",
   "id": "959e329f",
   "metadata": {
    "papermill": {
     "duration": 0.005022,
     "end_time": "2022-07-09T12:54:25.957722",
     "exception": false,
     "start_time": "2022-07-09T12:54:25.952700",
     "status": "completed"
    },
    "tags": []
   },
   "source": [
    "---\n",
    "\n",
    "\n",
    "\n",
    "\n",
    "*Have questions or comments? Visit the [course discussion forum](https://www.kaggle.com/learn/intro-to-machine-learning/discussion) to chat with other learners.*"
   ]
  }
 ],
 "metadata": {
  "kernelspec": {
   "display_name": "Python 3",
   "language": "python",
   "name": "python3"
  },
  "language_info": {
   "codemirror_mode": {
    "name": "ipython",
    "version": 3
   },
   "file_extension": ".py",
   "mimetype": "text/x-python",
   "name": "python",
   "nbconvert_exporter": "python",
   "pygments_lexer": "ipython3",
   "version": "3.7.12"
  },
  "papermill": {
   "default_parameters": {},
   "duration": 11.946204,
   "end_time": "2022-07-09T12:54:26.685171",
   "environment_variables": {},
   "exception": null,
   "input_path": "__notebook__.ipynb",
   "output_path": "__notebook__.ipynb",
   "parameters": {},
   "start_time": "2022-07-09T12:54:14.738967",
   "version": "2.3.4"
  }
 },
 "nbformat": 4,
 "nbformat_minor": 5
}
